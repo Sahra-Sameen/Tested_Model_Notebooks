{
 "cells": [
  {
   "cell_type": "code",
   "execution_count": 2,
   "metadata": {
    "_cell_guid": "b1076dfc-b9ad-4769-8c92-a6c4dae69d19",
    "_uuid": "8f2839f25d086af736a60e9eeb907d3b93b6e0e5",
    "execution": {
     "iopub.execute_input": "2025-05-12T11:45:16.945709Z",
     "iopub.status.busy": "2025-05-12T11:45:16.945273Z",
     "iopub.status.idle": "2025-05-12T11:45:16.951434Z",
     "shell.execute_reply": "2025-05-12T11:45:16.950525Z",
     "shell.execute_reply.started": "2025-05-12T11:45:16.945680Z"
    },
    "trusted": true
   },
   "outputs": [],
   "source": [
    "#Imports\n",
    "\n",
    "import numpy as np\n",
    "import matplotlib.pyplot as plt\n",
    "import os\n",
    "import cv2\n",
    "import tensorflow as tf\n",
    "from tensorflow.keras.models import Sequential\n",
    "from tensorflow.keras.layers import Conv2D, MaxPooling2D, Dropout, Flatten, Dense\n",
    "from tensorflow.keras.preprocessing.image import ImageDataGenerator\n",
    "from sklearn.metrics import classification_report, accuracy_score\n"
   ]
  },
  {
   "cell_type": "code",
   "execution_count": 3,
   "metadata": {
    "execution": {
     "iopub.execute_input": "2025-05-12T11:45:21.581656Z",
     "iopub.status.busy": "2025-05-12T11:45:21.581412Z",
     "iopub.status.idle": "2025-05-12T11:45:36.377212Z",
     "shell.execute_reply": "2025-05-12T11:45:36.376697Z",
     "shell.execute_reply.started": "2025-05-12T11:45:21.581641Z"
    },
    "trusted": true
   },
   "outputs": [
    {
     "name": "stdout",
     "output_type": "stream",
     "text": [
      "Found 22712 images belonging to 8 classes.\n",
      "Found 5674 images belonging to 8 classes.\n",
      "Found 7099 images belonging to 8 classes.\n"
     ]
    }
   ],
   "source": [
    "#Load FER2013PLUS Dataset (via Directory Format)\n",
    "\n",
    "# Paths\n",
    "train_dir = '/kaggle/input/fer2013plus/fer2013plus/fer2013/train'\n",
    "test_dir = '/kaggle/input/fer2013plus/fer2013plus/fer2013/test'\n",
    "\n",
    "# Image properties\n",
    "img_size = (48, 48)\n",
    "batch_size = 64\n",
    "\n",
    "# Image augmentation\n",
    "train_datagen = ImageDataGenerator(rescale=1./255, validation_split=0.2)\n",
    "\n",
    "train_generator = train_datagen.flow_from_directory(\n",
    "    train_dir,\n",
    "    target_size=img_size,\n",
    "    color_mode='grayscale',\n",
    "    batch_size=batch_size,\n",
    "    class_mode='categorical',\n",
    "    subset='training',\n",
    "    shuffle=True\n",
    ")\n",
    "\n",
    "val_generator = train_datagen.flow_from_directory(\n",
    "    train_dir,\n",
    "    target_size=img_size,\n",
    "    color_mode='grayscale',\n",
    "    batch_size=batch_size,\n",
    "    class_mode='categorical',\n",
    "    subset='validation',\n",
    "    shuffle=True\n",
    ")\n",
    "\n",
    "test_datagen = ImageDataGenerator(rescale=1./255)\n",
    "\n",
    "test_generator = test_datagen.flow_from_directory(\n",
    "    test_dir,\n",
    "    target_size=img_size,\n",
    "    color_mode='grayscale',\n",
    "    batch_size=1,\n",
    "    class_mode='categorical',\n",
    "    shuffle=False\n",
    ")\n"
   ]
  },
  {
   "cell_type": "code",
   "execution_count": 4,
   "metadata": {
    "execution": {
     "iopub.execute_input": "2025-05-12T11:46:20.421586Z",
     "iopub.status.busy": "2025-05-12T11:46:20.420756Z",
     "iopub.status.idle": "2025-05-12T11:46:20.425633Z",
     "shell.execute_reply": "2025-05-12T11:46:20.424990Z",
     "shell.execute_reply.started": "2025-05-12T11:46:20.421557Z"
    },
    "trusted": true
   },
   "outputs": [
    {
     "name": "stdout",
     "output_type": "stream",
     "text": [
      "Train samples: 22712\n",
      "Validation samples: 5674\n",
      "Test samples: 7099\n"
     ]
    }
   ],
   "source": [
    "#Display Train/Test/Validation Image Counts\n",
    "\n",
    "print(\"Train samples:\", train_generator.samples)\n",
    "print(\"Validation samples:\", val_generator.samples)\n",
    "print(\"Test samples:\", test_generator.samples)\n"
   ]
  },
  {
   "cell_type": "code",
   "execution_count": 6,
   "metadata": {
    "execution": {
     "iopub.execute_input": "2025-05-12T11:48:01.380915Z",
     "iopub.status.busy": "2025-05-12T11:48:01.380648Z",
     "iopub.status.idle": "2025-05-12T11:48:01.438899Z",
     "shell.execute_reply": "2025-05-12T11:48:01.438381Z",
     "shell.execute_reply.started": "2025-05-12T11:48:01.380895Z"
    },
    "trusted": true
   },
   "outputs": [
    {
     "data": {
      "text/html": [
       "<pre style=\"white-space:pre;overflow-x:auto;line-height:normal;font-family:Menlo,'DejaVu Sans Mono',consolas,'Courier New',monospace\"><span style=\"font-weight: bold\">Model: \"sequential_1\"</span>\n",
       "</pre>\n"
      ],
      "text/plain": [
       "\u001b[1mModel: \"sequential_1\"\u001b[0m\n"
      ]
     },
     "metadata": {},
     "output_type": "display_data"
    },
    {
     "data": {
      "text/html": [
       "<pre style=\"white-space:pre;overflow-x:auto;line-height:normal;font-family:Menlo,'DejaVu Sans Mono',consolas,'Courier New',monospace\">┏━━━━━━━━━━━━━━━━━━━━━━━━━━━━━━━━━━━━━━┳━━━━━━━━━━━━━━━━━━━━━━━━━━━━━┳━━━━━━━━━━━━━━━━━┓\n",
       "┃<span style=\"font-weight: bold\"> Layer (type)                         </span>┃<span style=\"font-weight: bold\"> Output Shape                </span>┃<span style=\"font-weight: bold\">         Param # </span>┃\n",
       "┡━━━━━━━━━━━━━━━━━━━━━━━━━━━━━━━━━━━━━━╇━━━━━━━━━━━━━━━━━━━━━━━━━━━━━╇━━━━━━━━━━━━━━━━━┩\n",
       "│ conv2d_2 (<span style=\"color: #0087ff; text-decoration-color: #0087ff\">Conv2D</span>)                    │ (<span style=\"color: #00d7ff; text-decoration-color: #00d7ff\">None</span>, <span style=\"color: #00af00; text-decoration-color: #00af00\">46</span>, <span style=\"color: #00af00; text-decoration-color: #00af00\">46</span>, <span style=\"color: #00af00; text-decoration-color: #00af00\">64</span>)          │             <span style=\"color: #00af00; text-decoration-color: #00af00\">640</span> │\n",
       "├──────────────────────────────────────┼─────────────────────────────┼─────────────────┤\n",
       "│ max_pooling2d_2 (<span style=\"color: #0087ff; text-decoration-color: #0087ff\">MaxPooling2D</span>)       │ (<span style=\"color: #00d7ff; text-decoration-color: #00d7ff\">None</span>, <span style=\"color: #00af00; text-decoration-color: #00af00\">23</span>, <span style=\"color: #00af00; text-decoration-color: #00af00\">23</span>, <span style=\"color: #00af00; text-decoration-color: #00af00\">64</span>)          │               <span style=\"color: #00af00; text-decoration-color: #00af00\">0</span> │\n",
       "├──────────────────────────────────────┼─────────────────────────────┼─────────────────┤\n",
       "│ dropout_3 (<span style=\"color: #0087ff; text-decoration-color: #0087ff\">Dropout</span>)                  │ (<span style=\"color: #00d7ff; text-decoration-color: #00d7ff\">None</span>, <span style=\"color: #00af00; text-decoration-color: #00af00\">23</span>, <span style=\"color: #00af00; text-decoration-color: #00af00\">23</span>, <span style=\"color: #00af00; text-decoration-color: #00af00\">64</span>)          │               <span style=\"color: #00af00; text-decoration-color: #00af00\">0</span> │\n",
       "├──────────────────────────────────────┼─────────────────────────────┼─────────────────┤\n",
       "│ conv2d_3 (<span style=\"color: #0087ff; text-decoration-color: #0087ff\">Conv2D</span>)                    │ (<span style=\"color: #00d7ff; text-decoration-color: #00d7ff\">None</span>, <span style=\"color: #00af00; text-decoration-color: #00af00\">21</span>, <span style=\"color: #00af00; text-decoration-color: #00af00\">21</span>, <span style=\"color: #00af00; text-decoration-color: #00af00\">128</span>)         │          <span style=\"color: #00af00; text-decoration-color: #00af00\">73,856</span> │\n",
       "├──────────────────────────────────────┼─────────────────────────────┼─────────────────┤\n",
       "│ max_pooling2d_3 (<span style=\"color: #0087ff; text-decoration-color: #0087ff\">MaxPooling2D</span>)       │ (<span style=\"color: #00d7ff; text-decoration-color: #00d7ff\">None</span>, <span style=\"color: #00af00; text-decoration-color: #00af00\">10</span>, <span style=\"color: #00af00; text-decoration-color: #00af00\">10</span>, <span style=\"color: #00af00; text-decoration-color: #00af00\">128</span>)         │               <span style=\"color: #00af00; text-decoration-color: #00af00\">0</span> │\n",
       "├──────────────────────────────────────┼─────────────────────────────┼─────────────────┤\n",
       "│ dropout_4 (<span style=\"color: #0087ff; text-decoration-color: #0087ff\">Dropout</span>)                  │ (<span style=\"color: #00d7ff; text-decoration-color: #00d7ff\">None</span>, <span style=\"color: #00af00; text-decoration-color: #00af00\">10</span>, <span style=\"color: #00af00; text-decoration-color: #00af00\">10</span>, <span style=\"color: #00af00; text-decoration-color: #00af00\">128</span>)         │               <span style=\"color: #00af00; text-decoration-color: #00af00\">0</span> │\n",
       "├──────────────────────────────────────┼─────────────────────────────┼─────────────────┤\n",
       "│ flatten_1 (<span style=\"color: #0087ff; text-decoration-color: #0087ff\">Flatten</span>)                  │ (<span style=\"color: #00d7ff; text-decoration-color: #00d7ff\">None</span>, <span style=\"color: #00af00; text-decoration-color: #00af00\">12800</span>)               │               <span style=\"color: #00af00; text-decoration-color: #00af00\">0</span> │\n",
       "├──────────────────────────────────────┼─────────────────────────────┼─────────────────┤\n",
       "│ dense_2 (<span style=\"color: #0087ff; text-decoration-color: #0087ff\">Dense</span>)                      │ (<span style=\"color: #00d7ff; text-decoration-color: #00d7ff\">None</span>, <span style=\"color: #00af00; text-decoration-color: #00af00\">128</span>)                 │       <span style=\"color: #00af00; text-decoration-color: #00af00\">1,638,528</span> │\n",
       "├──────────────────────────────────────┼─────────────────────────────┼─────────────────┤\n",
       "│ dropout_5 (<span style=\"color: #0087ff; text-decoration-color: #0087ff\">Dropout</span>)                  │ (<span style=\"color: #00d7ff; text-decoration-color: #00d7ff\">None</span>, <span style=\"color: #00af00; text-decoration-color: #00af00\">128</span>)                 │               <span style=\"color: #00af00; text-decoration-color: #00af00\">0</span> │\n",
       "├──────────────────────────────────────┼─────────────────────────────┼─────────────────┤\n",
       "│ dense_3 (<span style=\"color: #0087ff; text-decoration-color: #0087ff\">Dense</span>)                      │ (<span style=\"color: #00d7ff; text-decoration-color: #00d7ff\">None</span>, <span style=\"color: #00af00; text-decoration-color: #00af00\">8</span>)                   │           <span style=\"color: #00af00; text-decoration-color: #00af00\">1,032</span> │\n",
       "└──────────────────────────────────────┴─────────────────────────────┴─────────────────┘\n",
       "</pre>\n"
      ],
      "text/plain": [
       "┏━━━━━━━━━━━━━━━━━━━━━━━━━━━━━━━━━━━━━━┳━━━━━━━━━━━━━━━━━━━━━━━━━━━━━┳━━━━━━━━━━━━━━━━━┓\n",
       "┃\u001b[1m \u001b[0m\u001b[1mLayer (type)                        \u001b[0m\u001b[1m \u001b[0m┃\u001b[1m \u001b[0m\u001b[1mOutput Shape               \u001b[0m\u001b[1m \u001b[0m┃\u001b[1m \u001b[0m\u001b[1m        Param #\u001b[0m\u001b[1m \u001b[0m┃\n",
       "┡━━━━━━━━━━━━━━━━━━━━━━━━━━━━━━━━━━━━━━╇━━━━━━━━━━━━━━━━━━━━━━━━━━━━━╇━━━━━━━━━━━━━━━━━┩\n",
       "│ conv2d_2 (\u001b[38;5;33mConv2D\u001b[0m)                    │ (\u001b[38;5;45mNone\u001b[0m, \u001b[38;5;34m46\u001b[0m, \u001b[38;5;34m46\u001b[0m, \u001b[38;5;34m64\u001b[0m)          │             \u001b[38;5;34m640\u001b[0m │\n",
       "├──────────────────────────────────────┼─────────────────────────────┼─────────────────┤\n",
       "│ max_pooling2d_2 (\u001b[38;5;33mMaxPooling2D\u001b[0m)       │ (\u001b[38;5;45mNone\u001b[0m, \u001b[38;5;34m23\u001b[0m, \u001b[38;5;34m23\u001b[0m, \u001b[38;5;34m64\u001b[0m)          │               \u001b[38;5;34m0\u001b[0m │\n",
       "├──────────────────────────────────────┼─────────────────────────────┼─────────────────┤\n",
       "│ dropout_3 (\u001b[38;5;33mDropout\u001b[0m)                  │ (\u001b[38;5;45mNone\u001b[0m, \u001b[38;5;34m23\u001b[0m, \u001b[38;5;34m23\u001b[0m, \u001b[38;5;34m64\u001b[0m)          │               \u001b[38;5;34m0\u001b[0m │\n",
       "├──────────────────────────────────────┼─────────────────────────────┼─────────────────┤\n",
       "│ conv2d_3 (\u001b[38;5;33mConv2D\u001b[0m)                    │ (\u001b[38;5;45mNone\u001b[0m, \u001b[38;5;34m21\u001b[0m, \u001b[38;5;34m21\u001b[0m, \u001b[38;5;34m128\u001b[0m)         │          \u001b[38;5;34m73,856\u001b[0m │\n",
       "├──────────────────────────────────────┼─────────────────────────────┼─────────────────┤\n",
       "│ max_pooling2d_3 (\u001b[38;5;33mMaxPooling2D\u001b[0m)       │ (\u001b[38;5;45mNone\u001b[0m, \u001b[38;5;34m10\u001b[0m, \u001b[38;5;34m10\u001b[0m, \u001b[38;5;34m128\u001b[0m)         │               \u001b[38;5;34m0\u001b[0m │\n",
       "├──────────────────────────────────────┼─────────────────────────────┼─────────────────┤\n",
       "│ dropout_4 (\u001b[38;5;33mDropout\u001b[0m)                  │ (\u001b[38;5;45mNone\u001b[0m, \u001b[38;5;34m10\u001b[0m, \u001b[38;5;34m10\u001b[0m, \u001b[38;5;34m128\u001b[0m)         │               \u001b[38;5;34m0\u001b[0m │\n",
       "├──────────────────────────────────────┼─────────────────────────────┼─────────────────┤\n",
       "│ flatten_1 (\u001b[38;5;33mFlatten\u001b[0m)                  │ (\u001b[38;5;45mNone\u001b[0m, \u001b[38;5;34m12800\u001b[0m)               │               \u001b[38;5;34m0\u001b[0m │\n",
       "├──────────────────────────────────────┼─────────────────────────────┼─────────────────┤\n",
       "│ dense_2 (\u001b[38;5;33mDense\u001b[0m)                      │ (\u001b[38;5;45mNone\u001b[0m, \u001b[38;5;34m128\u001b[0m)                 │       \u001b[38;5;34m1,638,528\u001b[0m │\n",
       "├──────────────────────────────────────┼─────────────────────────────┼─────────────────┤\n",
       "│ dropout_5 (\u001b[38;5;33mDropout\u001b[0m)                  │ (\u001b[38;5;45mNone\u001b[0m, \u001b[38;5;34m128\u001b[0m)                 │               \u001b[38;5;34m0\u001b[0m │\n",
       "├──────────────────────────────────────┼─────────────────────────────┼─────────────────┤\n",
       "│ dense_3 (\u001b[38;5;33mDense\u001b[0m)                      │ (\u001b[38;5;45mNone\u001b[0m, \u001b[38;5;34m8\u001b[0m)                   │           \u001b[38;5;34m1,032\u001b[0m │\n",
       "└──────────────────────────────────────┴─────────────────────────────┴─────────────────┘\n"
      ]
     },
     "metadata": {},
     "output_type": "display_data"
    },
    {
     "data": {
      "text/html": [
       "<pre style=\"white-space:pre;overflow-x:auto;line-height:normal;font-family:Menlo,'DejaVu Sans Mono',consolas,'Courier New',monospace\"><span style=\"font-weight: bold\"> Total params: </span><span style=\"color: #00af00; text-decoration-color: #00af00\">1,714,056</span> (6.54 MB)\n",
       "</pre>\n"
      ],
      "text/plain": [
       "\u001b[1m Total params: \u001b[0m\u001b[38;5;34m1,714,056\u001b[0m (6.54 MB)\n"
      ]
     },
     "metadata": {},
     "output_type": "display_data"
    },
    {
     "data": {
      "text/html": [
       "<pre style=\"white-space:pre;overflow-x:auto;line-height:normal;font-family:Menlo,'DejaVu Sans Mono',consolas,'Courier New',monospace\"><span style=\"font-weight: bold\"> Trainable params: </span><span style=\"color: #00af00; text-decoration-color: #00af00\">1,714,056</span> (6.54 MB)\n",
       "</pre>\n"
      ],
      "text/plain": [
       "\u001b[1m Trainable params: \u001b[0m\u001b[38;5;34m1,714,056\u001b[0m (6.54 MB)\n"
      ]
     },
     "metadata": {},
     "output_type": "display_data"
    },
    {
     "data": {
      "text/html": [
       "<pre style=\"white-space:pre;overflow-x:auto;line-height:normal;font-family:Menlo,'DejaVu Sans Mono',consolas,'Courier New',monospace\"><span style=\"font-weight: bold\"> Non-trainable params: </span><span style=\"color: #00af00; text-decoration-color: #00af00\">0</span> (0.00 B)\n",
       "</pre>\n"
      ],
      "text/plain": [
       "\u001b[1m Non-trainable params: \u001b[0m\u001b[38;5;34m0\u001b[0m (0.00 B)\n"
      ]
     },
     "metadata": {},
     "output_type": "display_data"
    }
   ],
   "source": [
    "#Define Traditional CNN Model\n",
    "model = Sequential([\n",
    "    Conv2D(64, (3, 3), activation='relu', input_shape=(48, 48, 1)),\n",
    "    MaxPooling2D(pool_size=(2, 2)),\n",
    "    Dropout(0.25),\n",
    "\n",
    "    Conv2D(128, (3, 3), activation='relu'),\n",
    "    MaxPooling2D(pool_size=(2, 2)),\n",
    "    Dropout(0.25),\n",
    "\n",
    "    Flatten(),\n",
    "    Dense(128, activation='relu'),\n",
    "    Dropout(0.5),\n",
    "    Dense(train_generator.num_classes, activation='softmax')\n",
    "])\n",
    "\n",
    "model.compile(optimizer='adam', loss='categorical_crossentropy', metrics=['accuracy'])\n",
    "model.summary()\n"
   ]
  },
  {
   "cell_type": "code",
   "execution_count": 14,
   "metadata": {
    "execution": {
     "iopub.execute_input": "2025-05-12T12:01:04.211671Z",
     "iopub.status.busy": "2025-05-12T12:01:04.211187Z",
     "iopub.status.idle": "2025-05-12T12:11:05.392210Z",
     "shell.execute_reply": "2025-05-12T12:11:05.391615Z",
     "shell.execute_reply.started": "2025-05-12T12:01:04.211649Z"
    },
    "trusted": true
   },
   "outputs": [
    {
     "name": "stdout",
     "output_type": "stream",
     "text": [
      "Epoch 1/20\n",
      "\u001b[1m348/355\u001b[0m \u001b[32m━━━━━━━━━━━━━━━━━━━\u001b[0m\u001b[37m━\u001b[0m \u001b[1m1s\u001b[0m 169ms/step - accuracy: 0.4733 - loss: 1.4667\n",
      "Epoch 1: val_accuracy improved from -inf to 0.51903, saving model to best_model_tradCNN.keras\n",
      "\n",
      "Epoch 1: val_accuracy improved from -inf to 0.51903, saving model to best_model_tradCNN.weights.h5\n",
      "\u001b[1m355/355\u001b[0m \u001b[32m━━━━━━━━━━━━━━━━━━━━\u001b[0m\u001b[37m\u001b[0m \u001b[1m88s\u001b[0m 232ms/step - accuracy: 0.4735 - loss: 1.4662 - val_accuracy: 0.5190 - val_loss: 1.4202 - learning_rate: 1.0000e-04\n",
      "Epoch 2/20\n",
      "\u001b[1m348/355\u001b[0m \u001b[32m━━━━━━━━━━━━━━━━━━━\u001b[0m\u001b[37m━\u001b[0m \u001b[1m0s\u001b[0m 73ms/step - accuracy: 0.4959 - loss: 1.4055\n",
      "Epoch 2: val_accuracy improved from 0.51903 to 0.53349, saving model to best_model_tradCNN.keras\n",
      "\n",
      "Epoch 2: val_accuracy improved from 0.51903 to 0.53349, saving model to best_model_tradCNN.weights.h5\n",
      "\u001b[1m355/355\u001b[0m \u001b[32m━━━━━━━━━━━━━━━━━━━━\u001b[0m\u001b[37m\u001b[0m \u001b[1m33s\u001b[0m 90ms/step - accuracy: 0.4959 - loss: 1.4054 - val_accuracy: 0.5335 - val_loss: 1.3755 - learning_rate: 1.0000e-04\n",
      "Epoch 3/20\n",
      "\u001b[1m348/355\u001b[0m \u001b[32m━━━━━━━━━━━━━━━━━━━\u001b[0m\u001b[37m━\u001b[0m \u001b[1m0s\u001b[0m 63ms/step - accuracy: 0.5094 - loss: 1.3672\n",
      "Epoch 3: val_accuracy improved from 0.53349 to 0.54336, saving model to best_model_tradCNN.keras\n",
      "\n",
      "Epoch 3: val_accuracy improved from 0.53349 to 0.54336, saving model to best_model_tradCNN.weights.h5\n",
      "\u001b[1m355/355\u001b[0m \u001b[32m━━━━━━━━━━━━━━━━━━━━\u001b[0m\u001b[37m\u001b[0m \u001b[1m28s\u001b[0m 77ms/step - accuracy: 0.5095 - loss: 1.3671 - val_accuracy: 0.5434 - val_loss: 1.3309 - learning_rate: 1.0000e-04\n",
      "Epoch 4/20\n",
      "\u001b[1m348/355\u001b[0m \u001b[32m━━━━━━━━━━━━━━━━━━━\u001b[0m\u001b[37m━\u001b[0m \u001b[1m0s\u001b[0m 57ms/step - accuracy: 0.5255 - loss: 1.3428\n",
      "Epoch 4: val_accuracy improved from 0.54336 to 0.56080, saving model to best_model_tradCNN.keras\n",
      "\n",
      "Epoch 4: val_accuracy improved from 0.54336 to 0.56080, saving model to best_model_tradCNN.weights.h5\n",
      "\u001b[1m355/355\u001b[0m \u001b[32m━━━━━━━━━━━━━━━━━━━━\u001b[0m\u001b[37m\u001b[0m \u001b[1m26s\u001b[0m 71ms/step - accuracy: 0.5256 - loss: 1.3426 - val_accuracy: 0.5608 - val_loss: 1.2882 - learning_rate: 1.0000e-04\n",
      "Epoch 5/20\n",
      "\u001b[1m348/355\u001b[0m \u001b[32m━━━━━━━━━━━━━━━━━━━\u001b[0m\u001b[37m━\u001b[0m \u001b[1m0s\u001b[0m 61ms/step - accuracy: 0.5310 - loss: 1.3119\n",
      "Epoch 5: val_accuracy improved from 0.56080 to 0.57032, saving model to best_model_tradCNN.keras\n",
      "\n",
      "Epoch 5: val_accuracy improved from 0.56080 to 0.57032, saving model to best_model_tradCNN.weights.h5\n",
      "\u001b[1m355/355\u001b[0m \u001b[32m━━━━━━━━━━━━━━━━━━━━\u001b[0m\u001b[37m\u001b[0m \u001b[1m27s\u001b[0m 76ms/step - accuracy: 0.5311 - loss: 1.3118 - val_accuracy: 0.5703 - val_loss: 1.2617 - learning_rate: 1.0000e-04\n",
      "Epoch 6/20\n",
      "\u001b[1m348/355\u001b[0m \u001b[32m━━━━━━━━━━━━━━━━━━━\u001b[0m\u001b[37m━\u001b[0m \u001b[1m0s\u001b[0m 58ms/step - accuracy: 0.5480 - loss: 1.2892\n",
      "Epoch 6: val_accuracy improved from 0.57032 to 0.57191, saving model to best_model_tradCNN.keras\n",
      "\n",
      "Epoch 6: val_accuracy improved from 0.57032 to 0.57191, saving model to best_model_tradCNN.weights.h5\n",
      "\u001b[1m355/355\u001b[0m \u001b[32m━━━━━━━━━━━━━━━━━━━━\u001b[0m\u001b[37m\u001b[0m \u001b[1m26s\u001b[0m 73ms/step - accuracy: 0.5481 - loss: 1.2890 - val_accuracy: 0.5719 - val_loss: 1.2380 - learning_rate: 1.0000e-04\n",
      "Epoch 7/20\n",
      "\u001b[1m348/355\u001b[0m \u001b[32m━━━━━━━━━━━━━━━━━━━\u001b[0m\u001b[37m━\u001b[0m \u001b[1m0s\u001b[0m 66ms/step - accuracy: 0.5526 - loss: 1.2587\n",
      "Epoch 7: val_accuracy improved from 0.57191 to 0.58583, saving model to best_model_tradCNN.keras\n",
      "\n",
      "Epoch 7: val_accuracy improved from 0.57191 to 0.58583, saving model to best_model_tradCNN.weights.h5\n",
      "\u001b[1m355/355\u001b[0m \u001b[32m━━━━━━━━━━━━━━━━━━━━\u001b[0m\u001b[37m\u001b[0m \u001b[1m30s\u001b[0m 82ms/step - accuracy: 0.5526 - loss: 1.2586 - val_accuracy: 0.5858 - val_loss: 1.2027 - learning_rate: 1.0000e-04\n",
      "Epoch 8/20\n",
      "\u001b[1m349/355\u001b[0m \u001b[32m━━━━━━━━━━━━━━━━━━━\u001b[0m\u001b[37m━\u001b[0m \u001b[1m0s\u001b[0m 59ms/step - accuracy: 0.5635 - loss: 1.2413\n",
      "Epoch 8: val_accuracy improved from 0.58583 to 0.58794, saving model to best_model_tradCNN.keras\n",
      "\n",
      "Epoch 8: val_accuracy improved from 0.58583 to 0.58794, saving model to best_model_tradCNN.weights.h5\n",
      "\u001b[1m355/355\u001b[0m \u001b[32m━━━━━━━━━━━━━━━━━━━━\u001b[0m\u001b[37m\u001b[0m \u001b[1m26s\u001b[0m 72ms/step - accuracy: 0.5636 - loss: 1.2411 - val_accuracy: 0.5879 - val_loss: 1.1970 - learning_rate: 1.0000e-04\n",
      "Epoch 9/20\n",
      "\u001b[1m348/355\u001b[0m \u001b[32m━━━━━━━━━━━━━━━━━━━\u001b[0m\u001b[37m━\u001b[0m \u001b[1m0s\u001b[0m 61ms/step - accuracy: 0.5739 - loss: 1.2077\n",
      "Epoch 9: val_accuracy improved from 0.58794 to 0.59112, saving model to best_model_tradCNN.keras\n",
      "\n",
      "Epoch 9: val_accuracy improved from 0.58794 to 0.59112, saving model to best_model_tradCNN.weights.h5\n",
      "\u001b[1m355/355\u001b[0m \u001b[32m━━━━━━━━━━━━━━━━━━━━\u001b[0m\u001b[37m\u001b[0m \u001b[1m27s\u001b[0m 76ms/step - accuracy: 0.5740 - loss: 1.2077 - val_accuracy: 0.5911 - val_loss: 1.1707 - learning_rate: 1.0000e-04\n",
      "Epoch 10/20\n",
      "\u001b[1m348/355\u001b[0m \u001b[32m━━━━━━━━━━━━━━━━━━━\u001b[0m\u001b[37m━\u001b[0m \u001b[1m0s\u001b[0m 61ms/step - accuracy: 0.5821 - loss: 1.1947\n",
      "Epoch 10: val_accuracy improved from 0.59112 to 0.60081, saving model to best_model_tradCNN.keras\n",
      "\n",
      "Epoch 10: val_accuracy improved from 0.59112 to 0.60081, saving model to best_model_tradCNN.weights.h5\n",
      "\u001b[1m355/355\u001b[0m \u001b[32m━━━━━━━━━━━━━━━━━━━━\u001b[0m\u001b[37m\u001b[0m \u001b[1m27s\u001b[0m 74ms/step - accuracy: 0.5821 - loss: 1.1946 - val_accuracy: 0.6008 - val_loss: 1.1578 - learning_rate: 1.0000e-04\n",
      "Epoch 11/20\n",
      "\u001b[1m348/355\u001b[0m \u001b[32m━━━━━━━━━━━━━━━━━━━\u001b[0m\u001b[37m━\u001b[0m \u001b[1m0s\u001b[0m 61ms/step - accuracy: 0.5896 - loss: 1.1668\n",
      "Epoch 11: val_accuracy improved from 0.60081 to 0.60522, saving model to best_model_tradCNN.keras\n",
      "\n",
      "Epoch 11: val_accuracy improved from 0.60081 to 0.60522, saving model to best_model_tradCNN.weights.h5\n",
      "\u001b[1m355/355\u001b[0m \u001b[32m━━━━━━━━━━━━━━━━━━━━\u001b[0m\u001b[37m\u001b[0m \u001b[1m28s\u001b[0m 76ms/step - accuracy: 0.5896 - loss: 1.1669 - val_accuracy: 0.6052 - val_loss: 1.1319 - learning_rate: 1.0000e-04\n",
      "Epoch 12/20\n",
      "\u001b[1m348/355\u001b[0m \u001b[32m━━━━━━━━━━━━━━━━━━━\u001b[0m\u001b[37m━\u001b[0m \u001b[1m0s\u001b[0m 59ms/step - accuracy: 0.5923 - loss: 1.1564\n",
      "Epoch 12: val_accuracy improved from 0.60522 to 0.61121, saving model to best_model_tradCNN.keras\n",
      "\n",
      "Epoch 12: val_accuracy improved from 0.60522 to 0.61121, saving model to best_model_tradCNN.weights.h5\n",
      "\u001b[1m355/355\u001b[0m \u001b[32m━━━━━━━━━━━━━━━━━━━━\u001b[0m\u001b[37m\u001b[0m \u001b[1m26s\u001b[0m 73ms/step - accuracy: 0.5924 - loss: 1.1563 - val_accuracy: 0.6112 - val_loss: 1.1178 - learning_rate: 1.0000e-04\n",
      "Epoch 13/20\n",
      "\u001b[1m348/355\u001b[0m \u001b[32m━━━━━━━━━━━━━━━━━━━\u001b[0m\u001b[37m━\u001b[0m \u001b[1m0s\u001b[0m 57ms/step - accuracy: 0.5980 - loss: 1.1401\n",
      "Epoch 13: val_accuracy improved from 0.61121 to 0.61280, saving model to best_model_tradCNN.keras\n",
      "\n",
      "Epoch 13: val_accuracy improved from 0.61121 to 0.61280, saving model to best_model_tradCNN.weights.h5\n",
      "\u001b[1m355/355\u001b[0m \u001b[32m━━━━━━━━━━━━━━━━━━━━\u001b[0m\u001b[37m\u001b[0m \u001b[1m25s\u001b[0m 71ms/step - accuracy: 0.5980 - loss: 1.1401 - val_accuracy: 0.6128 - val_loss: 1.0970 - learning_rate: 1.0000e-04\n",
      "Epoch 14/20\n",
      "\u001b[1m348/355\u001b[0m \u001b[32m━━━━━━━━━━━━━━━━━━━\u001b[0m\u001b[37m━\u001b[0m \u001b[1m0s\u001b[0m 59ms/step - accuracy: 0.5982 - loss: 1.1395\n",
      "Epoch 14: val_accuracy improved from 0.61280 to 0.61967, saving model to best_model_tradCNN.keras\n",
      "\n",
      "Epoch 14: val_accuracy improved from 0.61280 to 0.61967, saving model to best_model_tradCNN.weights.h5\n",
      "\u001b[1m355/355\u001b[0m \u001b[32m━━━━━━━━━━━━━━━━━━━━\u001b[0m\u001b[37m\u001b[0m \u001b[1m26s\u001b[0m 72ms/step - accuracy: 0.5983 - loss: 1.1392 - val_accuracy: 0.6197 - val_loss: 1.0938 - learning_rate: 1.0000e-04\n",
      "Epoch 15/20\n",
      "\u001b[1m348/355\u001b[0m \u001b[32m━━━━━━━━━━━━━━━━━━━\u001b[0m\u001b[37m━\u001b[0m \u001b[1m0s\u001b[0m 56ms/step - accuracy: 0.6038 - loss: 1.1110\n",
      "Epoch 15: val_accuracy did not improve from 0.61967\n",
      "\n",
      "Epoch 15: val_accuracy did not improve from 0.61967\n",
      "\u001b[1m355/355\u001b[0m \u001b[32m━━━━━━━━━━━━━━━━━━━━\u001b[0m\u001b[37m\u001b[0m \u001b[1m25s\u001b[0m 69ms/step - accuracy: 0.6038 - loss: 1.1111 - val_accuracy: 0.6183 - val_loss: 1.0776 - learning_rate: 1.0000e-04\n",
      "Epoch 16/20\n",
      "\u001b[1m348/355\u001b[0m \u001b[32m━━━━━━━━━━━━━━━━━━━\u001b[0m\u001b[37m━\u001b[0m \u001b[1m0s\u001b[0m 62ms/step - accuracy: 0.6104 - loss: 1.0977\n",
      "Epoch 16: val_accuracy improved from 0.61967 to 0.62161, saving model to best_model_tradCNN.keras\n",
      "\n",
      "Epoch 16: val_accuracy improved from 0.61967 to 0.62161, saving model to best_model_tradCNN.weights.h5\n",
      "\u001b[1m355/355\u001b[0m \u001b[32m━━━━━━━━━━━━━━━━━━━━\u001b[0m\u001b[37m\u001b[0m \u001b[1m28s\u001b[0m 77ms/step - accuracy: 0.6104 - loss: 1.0978 - val_accuracy: 0.6216 - val_loss: 1.0662 - learning_rate: 1.0000e-04\n",
      "Epoch 17/20\n",
      "\u001b[1m348/355\u001b[0m \u001b[32m━━━━━━━━━━━━━━━━━━━\u001b[0m\u001b[37m━\u001b[0m \u001b[1m0s\u001b[0m 56ms/step - accuracy: 0.6133 - loss: 1.0945\n",
      "Epoch 17: val_accuracy improved from 0.62161 to 0.62302, saving model to best_model_tradCNN.keras\n",
      "\n",
      "Epoch 17: val_accuracy improved from 0.62161 to 0.62302, saving model to best_model_tradCNN.weights.h5\n",
      "\u001b[1m355/355\u001b[0m \u001b[32m━━━━━━━━━━━━━━━━━━━━\u001b[0m\u001b[37m\u001b[0m \u001b[1m25s\u001b[0m 69ms/step - accuracy: 0.6133 - loss: 1.0945 - val_accuracy: 0.6230 - val_loss: 1.0542 - learning_rate: 1.0000e-04\n",
      "Epoch 18/20\n",
      "\u001b[1m348/355\u001b[0m \u001b[32m━━━━━━━━━━━━━━━━━━━\u001b[0m\u001b[37m━\u001b[0m \u001b[1m0s\u001b[0m 58ms/step - accuracy: 0.6191 - loss: 1.0734\n",
      "Epoch 18: val_accuracy improved from 0.62302 to 0.62584, saving model to best_model_tradCNN.keras\n",
      "\n",
      "Epoch 18: val_accuracy improved from 0.62302 to 0.62584, saving model to best_model_tradCNN.weights.h5\n",
      "\u001b[1m355/355\u001b[0m \u001b[32m━━━━━━━━━━━━━━━━━━━━\u001b[0m\u001b[37m\u001b[0m \u001b[1m26s\u001b[0m 72ms/step - accuracy: 0.6191 - loss: 1.0735 - val_accuracy: 0.6258 - val_loss: 1.0528 - learning_rate: 1.0000e-04\n",
      "Epoch 19/20\n",
      "\u001b[1m348/355\u001b[0m \u001b[32m━━━━━━━━━━━━━━━━━━━\u001b[0m\u001b[37m━\u001b[0m \u001b[1m0s\u001b[0m 58ms/step - accuracy: 0.6175 - loss: 1.0739\n",
      "Epoch 19: val_accuracy improved from 0.62584 to 0.62795, saving model to best_model_tradCNN.keras\n",
      "\n",
      "Epoch 19: val_accuracy improved from 0.62584 to 0.62795, saving model to best_model_tradCNN.weights.h5\n",
      "\u001b[1m355/355\u001b[0m \u001b[32m━━━━━━━━━━━━━━━━━━━━\u001b[0m\u001b[37m\u001b[0m \u001b[1m26s\u001b[0m 71ms/step - accuracy: 0.6176 - loss: 1.0738 - val_accuracy: 0.6280 - val_loss: 1.0477 - learning_rate: 1.0000e-04\n",
      "Epoch 20/20\n",
      "\u001b[1m348/355\u001b[0m \u001b[32m━━━━━━━━━━━━━━━━━━━\u001b[0m\u001b[37m━\u001b[0m \u001b[1m0s\u001b[0m 63ms/step - accuracy: 0.6217 - loss: 1.0627\n",
      "Epoch 20: val_accuracy improved from 0.62795 to 0.63289, saving model to best_model_tradCNN.keras\n",
      "\n",
      "Epoch 20: val_accuracy improved from 0.62795 to 0.63289, saving model to best_model_tradCNN.weights.h5\n",
      "\u001b[1m355/355\u001b[0m \u001b[32m━━━━━━━━━━━━━━━━━━━━\u001b[0m\u001b[37m\u001b[0m \u001b[1m29s\u001b[0m 81ms/step - accuracy: 0.6217 - loss: 1.0625 - val_accuracy: 0.6329 - val_loss: 1.0301 - learning_rate: 1.0000e-04\n",
      "Restoring model weights from the end of the best epoch: 20.\n"
     ]
    }
   ],
   "source": [
    "#Train Model (20 Epochs)\n",
    "\n",
    "from tensorflow.keras.optimizers import Adam\n",
    "from tensorflow.keras.callbacks import EarlyStopping, ModelCheckpoint, ReduceLROnPlateau\n",
    "\n",
    "# Set learning rate (start low to avoid overshooting minima)\n",
    "learning_rate = 0.0001\n",
    "optimizer = Adam(learning_rate=learning_rate)\n",
    "\n",
    "# Compile the model with chosen optimizer and metrics\n",
    "model.compile(\n",
    "    optimizer=optimizer,\n",
    "    loss='categorical_crossentropy',\n",
    "    metrics=['accuracy']\n",
    ")\n",
    "\n",
    "# Add callbacks to prevent overfitting and dynamically adjust learning rate\n",
    "early_stop = EarlyStopping(\n",
    "    monitor='val_loss',\n",
    "    patience=5,\n",
    "    restore_best_weights=True,\n",
    "    verbose=1\n",
    ")\n",
    "\n",
    "reduce_lr = ReduceLROnPlateau(\n",
    "    monitor='val_loss',\n",
    "    factor=0.5,\n",
    "    patience=3,\n",
    "    verbose=1,\n",
    "    min_lr=1e-6\n",
    ")\n",
    "\n",
    "checkpoint_keras = ModelCheckpoint(\n",
    "    \"best_model_tradCNN.keras\",\n",
    "    monitor=\"val_accuracy\",\n",
    "    save_best_only=True,\n",
    "    verbose=1\n",
    ")\n",
    "\n",
    "checkpoint_h5 = ModelCheckpoint(\n",
    "    \"best_model_tradCNN.weights.h5\", \n",
    "    monitor=\"val_accuracy\", \n",
    "    save_best_only=True, \n",
    "    save_weights_only=True, \n",
    "    verbose=1\n",
    ")\n",
    "\n",
    "# Train the model\n",
    "history = model.fit(\n",
    "    train_generator,\n",
    "    validation_data=val_generator,\n",
    "    epochs=20,\n",
    "    callbacks=[early_stop, reduce_lr, checkpoint_keras, checkpoint_h5]\n",
    ")\n",
    "\n"
   ]
  },
  {
   "cell_type": "code",
   "execution_count": 15,
   "metadata": {
    "execution": {
     "iopub.execute_input": "2025-05-12T12:13:06.627299Z",
     "iopub.status.busy": "2025-05-12T12:13:06.626999Z",
     "iopub.status.idle": "2025-05-12T12:13:40.468722Z",
     "shell.execute_reply": "2025-05-12T12:13:40.468102Z",
     "shell.execute_reply.started": "2025-05-12T12:13:06.627278Z"
    },
    "trusted": true
   },
   "outputs": [
    {
     "name": "stdout",
     "output_type": "stream",
     "text": [
      "\u001b[1m89/89\u001b[0m \u001b[32m━━━━━━━━━━━━━━━━━━━━\u001b[0m\u001b[37m\u001b[0m \u001b[1m5s\u001b[0m 59ms/step - accuracy: 0.6390 - loss: 1.0244\n",
      "Validation Accuracy: 63.29%\n",
      "\u001b[1m7099/7099\u001b[0m \u001b[32m━━━━━━━━━━━━━━━━━━━━\u001b[0m\u001b[37m\u001b[0m \u001b[1m28s\u001b[0m 4ms/step - accuracy: 0.5712 - loss: 1.2565\n",
      "Test Accuracy: 63.50%\n"
     ]
    }
   ],
   "source": [
    "#Evaluate Accuracy (Validation & Test)\n",
    "\n",
    "# Validation accuracy\n",
    "val_loss, val_acc = model.evaluate(val_generator)\n",
    "print(f\"Validation Accuracy: {val_acc * 100:.2f}%\")\n",
    "\n",
    "# Test accuracy\n",
    "test_loss, test_acc = model.evaluate(test_generator)\n",
    "print(f\"Test Accuracy: {test_acc * 100:.2f}%\")\n"
   ]
  },
  {
   "cell_type": "code",
   "execution_count": 16,
   "metadata": {
    "execution": {
     "iopub.execute_input": "2025-05-12T12:14:05.101210Z",
     "iopub.status.busy": "2025-05-12T12:14:05.100609Z",
     "iopub.status.idle": "2025-05-12T12:14:05.444755Z",
     "shell.execute_reply": "2025-05-12T12:14:05.443970Z",
     "shell.execute_reply.started": "2025-05-12T12:14:05.101182Z"
    },
    "trusted": true
   },
   "outputs": [
    {
     "data": {
      "image/png": "[encoded data removed]",
      "text/plain": [
       "<Figure size 640x480 with 1 Axes>"
      ]
     },
     "metadata": {},
     "output_type": "display_data"
    },
    {
     "data": {
      "image/png": "[encoded data removed]",
      "text/plain": [
       "<Figure size 640x480 with 1 Axes>"
      ]
     },
     "metadata": {},
     "output_type": "display_data"
    }
   ],
   "source": [
    "import matplotlib.pyplot as plt\n",
    "\n",
    "# Accuracy\n",
    "plt.plot(history.history['accuracy'], label='Train Acc')\n",
    "plt.plot(history.history['val_accuracy'], label='Val Acc')\n",
    "plt.title('Model Accuracy')\n",
    "plt.ylabel('Accuracy')\n",
    "plt.xlabel('Epoch')\n",
    "plt.legend()\n",
    "plt.show()\n",
    "\n",
    "# Loss\n",
    "plt.plot(history.history['loss'], label='Train Loss')\n",
    "plt.plot(history.history['val_loss'], label='Val Loss')\n",
    "plt.title('Model Loss')\n",
    "plt.ylabel('Loss')\n",
    "plt.xlabel('Epoch')\n",
    "plt.legend()\n",
    "plt.show()\n"
   ]
  },
  {
   "cell_type": "code",
   "execution_count": 17,
   "metadata": {
    "execution": {
     "iopub.execute_input": "2025-05-12T12:15:37.341614Z",
     "iopub.status.busy": "2025-05-12T12:15:37.341291Z",
     "iopub.status.idle": "2025-05-12T12:15:37.407635Z",
     "shell.execute_reply": "2025-05-12T12:15:37.406857Z",
     "shell.execute_reply.started": "2025-05-12T12:15:37.341593Z"
    },
    "trusted": true
   },
   "outputs": [
    {
     "name": "stdout",
     "output_type": "stream",
     "text": [
      "Model saved as emotion_model.h5\n"
     ]
    }
   ],
   "source": [
    "#Save the Model\n",
    "\n",
    "model.save('emotion_model_tradCNN_V1.h5')\n",
    "print(\"Model saved as emotion_model.h5\")\n"
   ]
  },
  {
   "cell_type": "code",
   "execution_count": 23,
   "metadata": {
    "execution": {
     "iopub.execute_input": "2025-05-12T12:25:00.664112Z",
     "iopub.status.busy": "2025-05-12T12:25:00.663570Z",
     "iopub.status.idle": "2025-05-12T12:25:01.153169Z",
     "shell.execute_reply": "2025-05-12T12:25:01.152563Z",
     "shell.execute_reply.started": "2025-05-12T12:25:00.664090Z"
    },
    "trusted": true
   },
   "outputs": [
    {
     "name": "stdout",
     "output_type": "stream",
     "text": [
      "Image Path: /kaggle/input/fer2013plus/fer2013plus/fer2013/test/anger/fer0028729.png\n",
      "Does the image exist? True\n",
      "Original image shape: (48, 48)\n",
      "Input shape for model: (1, 48, 48, 1)\n",
      "\u001b[1m1/1\u001b[0m \u001b[32m━━━━━━━━━━━━━━━━━━━━\u001b[0m\u001b[37m\u001b[0m \u001b[1m0s\u001b[0m 317ms/step\n",
      "Raw prediction output: [[0.1950848  0.00156129 0.00612238 0.01971012 0.65374506 0.01693265\n",
      "  0.0335986  0.07324507]]\n",
      "Predicted Emotion: happiness\n"
     ]
    },
    {
     "data": {
      "image/png": "[encoded data removed]",
      "text/plain": [
       "<Figure size 640x480 with 1 Axes>"
      ]
     },
     "metadata": {},
     "output_type": "display_data"
    }
   ],
   "source": [
    "import cv2\n",
    "import numpy as np\n",
    "import matplotlib.pyplot as plt\n",
    "import os\n",
    "\n",
    "# Set image size expected by your model\n",
    "img_size = (48, 48)\n",
    "\n",
    "# Load your trained model (update path if needed)\n",
    "# model = load_model('your_model_path.h5')\n",
    "\n",
    "# Load class labels from your training generator\n",
    "class_labels = list(train_generator.class_indices.keys())\n",
    "\n",
    "# Image path\n",
    "image_path = '/kaggle/input/fer2013plus/fer2013plus/fer2013/test/anger/fer0028729.png'\n",
    "\n",
    "# Confirm path\n",
    "print(f\"Image Path: {image_path}\")\n",
    "print(f\"Does the image exist? {os.path.exists(image_path)}\")\n",
    "\n",
    "def predict_emotion(image_path):\n",
    "    # Step 1: Load image in grayscale\n",
    "    img = cv2.imread(image_path, cv2.IMREAD_GRAYSCALE)\n",
    "    if img is None:\n",
    "        print(\"Error: Could not load image.\")\n",
    "        return\n",
    "    \n",
    "    print(f\"Original image shape: {img.shape}\")\n",
    "    \n",
    "    # Step 2: Resize image\n",
    "    img = cv2.resize(img, img_size)\n",
    "    \n",
    "    # Step 3: Normalize and reshape\n",
    "    img = img / 255.0\n",
    "    img = np.expand_dims(img, axis=-1)  # (48, 48, 1)\n",
    "    img = np.expand_dims(img, axis=0)   # (1, 48, 48, 1)\n",
    "    \n",
    "    print(f\"Input shape for model: {img.shape}\")\n",
    "    \n",
    "    # Step 4: Predict emotion\n",
    "    prediction = model.predict(img)\n",
    "    print(f\"Raw prediction output: {prediction}\")\n",
    "    \n",
    "    predicted_label = np.argmax(prediction)\n",
    "    emotion = class_labels[predicted_label]\n",
    "    \n",
    "    print(f\"Predicted Emotion: {emotion}\")\n",
    "    \n",
    "    # Step 5: Display image\n",
    "    plt.imshow(img[0, :, :, 0], cmap='gray')\n",
    "    plt.title(f\"Predicted Emotion: {emotion}\")\n",
    "    plt.axis('off')\n",
    "    plt.show()\n",
    "\n",
    "# Call the function\n",
    "predict_emotion(image_path)\n"
   ]
  },
  {
   "cell_type": "code",
   "execution_count": 24,
   "metadata": {
    "execution": {
     "iopub.execute_input": "2025-05-12T12:27:55.574747Z",
     "iopub.status.busy": "2025-05-12T12:27:55.573972Z",
     "iopub.status.idle": "2025-05-12T12:27:55.710376Z",
     "shell.execute_reply": "2025-05-12T12:27:55.709663Z",
     "shell.execute_reply.started": "2025-05-12T12:27:55.574721Z"
    },
    "trusted": true
   },
   "outputs": [
    {
     "name": "stdout",
     "output_type": "stream",
     "text": [
      "Image Path: /kaggle/input/fer2013plus/fer2013plus/fer2013/test/sadness/fer0028679.png\n",
      "Does the image exist? True\n",
      "Original image shape: (48, 48)\n",
      "Input shape for model: (1, 48, 48, 1)\n",
      "\u001b[1m1/1\u001b[0m \u001b[32m━━━━━━━━━━━━━━━━━━━━\u001b[0m\u001b[37m\u001b[0m \u001b[1m0s\u001b[0m 16ms/step\n",
      "Raw prediction output: [[0.01746606 0.00944215 0.00628086 0.04156952 0.19991268 0.40733048\n",
      "  0.20176518 0.11623303]]\n",
      "Predicted Emotion: neutral\n"
     ]
    },
    {
     "data": {
      "image/png": "[encoded data removed]",
      "text/plain": [
       "<Figure size 640x480 with 1 Axes>"
      ]
     },
     "metadata": {},
     "output_type": "display_data"
    }
   ],
   "source": [
    "import cv2\n",
    "import numpy as np\n",
    "import matplotlib.pyplot as plt\n",
    "import os\n",
    "\n",
    "# Set image size expected by your model\n",
    "img_size = (48, 48)\n",
    "\n",
    "# Load your trained model (update path if needed)\n",
    "# model = load_model('your_model_path.h5')\n",
    "\n",
    "# Load class labels from your training generator\n",
    "class_labels = list(train_generator.class_indices.keys())\n",
    "\n",
    "# Image path\n",
    "image_path = '/kaggle/input/fer2013plus/fer2013plus/fer2013/test/sadness/fer0028679.png'\n",
    "\n",
    "# Confirm path\n",
    "print(f\"Image Path: {image_path}\")\n",
    "print(f\"Does the image exist? {os.path.exists(image_path)}\")\n",
    "\n",
    "def predict_emotion(image_path):\n",
    "    # Step 1: Load image in grayscale\n",
    "    img = cv2.imread(image_path, cv2.IMREAD_GRAYSCALE)\n",
    "    if img is None:\n",
    "        print(\"Error: Could not load image.\")\n",
    "        return\n",
    "    \n",
    "    print(f\"Original image shape: {img.shape}\")\n",
    "    \n",
    "    # Step 2: Resize image\n",
    "    img = cv2.resize(img, img_size)\n",
    "    \n",
    "    # Step 3: Normalize and reshape\n",
    "    img = img / 255.0\n",
    "    img = np.expand_dims(img, axis=-1)  # (48, 48, 1)\n",
    "    img = np.expand_dims(img, axis=0)   # (1, 48, 48, 1)\n",
    "    \n",
    "    print(f\"Input shape for model: {img.shape}\")\n",
    "    \n",
    "    # Step 4: Predict emotion\n",
    "    prediction = model.predict(img)\n",
    "    print(f\"Raw prediction output: {prediction}\")\n",
    "    \n",
    "    predicted_label = np.argmax(prediction)\n",
    "    emotion = class_labels[predicted_label]\n",
    "    \n",
    "    print(f\"Predicted Emotion: {emotion}\")\n",
    "    \n",
    "    # Step 5: Display image\n",
    "    plt.imshow(img[0, :, :, 0], cmap='gray')\n",
    "    plt.title(f\"Predicted Emotion: {emotion}\")\n",
    "    plt.axis('off')\n",
    "    plt.show()\n",
    "\n",
    "# Call the function\n",
    "predict_emotion(image_path)\n"
   ]
  }
 ],
 "metadata": {
  "kaggle": {
   "accelerator": "gpu",
   "dataSources": [
    {
     "datasetId": 1948164,
     "sourceId": 3211370,
     "sourceType": "datasetVersion"
    }
   ],
   "dockerImageVersionId": 31011,
   "isGpuEnabled": true,
   "isInternetEnabled": true,
   "language": "python",
   "sourceType": "notebook"
  },
  "kernelspec": {
   "display_name": "Python 3",
   "language": "python",
   "name": "python3"
  },
  "language_info": {
   "codemirror_mode": {
    "name": "ipython",
    "version": 3
   },
   "file_extension": ".py",
   "mimetype": "text/x-python",
   "name": "python",
   "nbconvert_exporter": "python",
   "pygments_lexer": "ipython3",
   "version": "3.11.11"
  }
 },
 "nbformat": 4,
 "nbformat_minor": 4
}
